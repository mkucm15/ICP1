{
  "nbformat": 4,
  "nbformat_minor": 0,
  "metadata": {
    "colab": {
      "provenance": []
    },
    "kernelspec": {
      "name": "python3",
      "display_name": "Python 3"
    },
    "language_info": {
      "name": "python"
    }
  },
  "cells": [
    {
      "cell_type": "code",
      "execution_count": 1,
      "metadata": {
        "colab": {
          "base_uri": "https://localhost:8080/"
        },
        "id": "fTPAFKapduWk",
        "outputId": "7d2a4d1e-be1a-4eb3-e16c-80ed31c13795"
      },
      "outputs": [
        {
          "output_type": "stream",
          "name": "stdout",
          "text": [
            "Enter the string 'Python': Python\n",
            "noht\n"
          ]
        }
      ],
      "source": [
        "# Input the string \"Python\" as a list of characters from console\n",
        "input_str = list(input(\"Enter the string 'Python': \"))\n",
        "\n",
        "# Delete at least 2 characters (for simplicity, let's delete the first two characters)\n",
        "if len(input_str) >= 2:\n",
        "    del input_str[:2]\n",
        "\n",
        "# Reverse the resultant string\n",
        "result_str = input_str[::-1]\n",
        "\n",
        "# Print the reversed string\n",
        "print(\"\".join(result_str))\n"
      ]
    },
    {
      "cell_type": "code",
      "source": [
        "# Take two numbers from the user\n",
        "num1 = float(input(\"Enter first number: \"))\n",
        "num2 = float(input(\"Enter second number: \"))\n",
        "\n",
        "# Perform arithmetic operations\n",
        "addition = num1 + num2\n",
        "subtraction = num1 - num2\n",
        "multiplication = num1 * num2\n",
        "division = num1 / num2\n",
        "\n",
        "# Print results\n",
        "print(f\"Addition: {num1} + {num2} = {addition}\")\n",
        "print(f\"Subtraction: {num1} - {num2} = {subtraction}\")\n",
        "print(f\"Multiplication: {num1} * {num2} = {multiplication}\")\n",
        "print(f\"Division: {num1} / {num2} = {division}\")\n"
      ],
      "metadata": {
        "colab": {
          "base_uri": "https://localhost:8080/"
        },
        "id": "kCxgq3Plf1pm",
        "outputId": "c35ee702-251e-4536-d444-62474abc78ff"
      },
      "execution_count": 2,
      "outputs": [
        {
          "output_type": "stream",
          "name": "stdout",
          "text": [
            "Enter first number: 22\n",
            "Enter second number: 23\n",
            "Addition: 22.0 + 23.0 = 45.0\n",
            "Subtraction: 22.0 - 23.0 = -1.0\n",
            "Multiplication: 22.0 * 23.0 = 506.0\n",
            "Division: 22.0 / 23.0 = 0.9565217391304348\n"
          ]
        }
      ]
    },
    {
      "cell_type": "code",
      "source": [
        "# Accept a sentence from the user\n",
        "sentence = input(\"Enter a sentence: \")\n",
        "\n",
        "# Replace each occurrence of 'python' with 'pythons'\n",
        "modified_sentence = sentence.replace('python', 'pythons')\n",
        "\n",
        "# Print the modified sentence\n",
        "print(\"Modified sentence:\", modified_sentence)\n"
      ],
      "metadata": {
        "colab": {
          "base_uri": "https://localhost:8080/"
        },
        "id": "mstXICongXA6",
        "outputId": "11559c77-e613-4983-ec5f-c6efa853d061"
      },
      "execution_count": 4,
      "outputs": [
        {
          "output_type": "stream",
          "name": "stdout",
          "text": [
            "Enter a sentence: love is python\n",
            "Modified sentence: love is pythons\n"
          ]
        }
      ]
    },
    {
      "cell_type": "code",
      "source": [
        "# Accept the class score from the user\n",
        "class_score = float(input(\"Enter the class score: \"))\n",
        "\n",
        "# Determine the letter grade based on the class score\n",
        "if 90 <= class_score <= 100:\n",
        "    grade = 'A'\n",
        "elif 80 <= class_score < 90:\n",
        "    grade = 'B'\n",
        "elif 70 <= class_score < 80:\n",
        "    grade = 'C'\n",
        "elif 60 <= class_score < 70:\n",
        "    grade = 'D'\n",
        "elif 0 <= class_score < 60:\n",
        "    grade = 'F'\n",
        "else:\n",
        "    grade = 'Invalid score'\n",
        "\n",
        "# Print the letter grade\n",
        "print(f\"The letter grade for the score {class_score} is: {grade}\")\n"
      ],
      "metadata": {
        "colab": {
          "base_uri": "https://localhost:8080/"
        },
        "id": "41TJETBig6wF",
        "outputId": "8fd0f90e-5b95-48cc-f2f6-6f16986ec16d"
      },
      "execution_count": 5,
      "outputs": [
        {
          "output_type": "stream",
          "name": "stdout",
          "text": [
            "Enter the class score: 93\n",
            "The letter grade for the score 93.0 is: A\n"
          ]
        }
      ]
    }
  ]
}